{
 "cells": [
  {
   "cell_type": "code",
   "execution_count": 1,
   "metadata": {},
   "outputs": [],
   "source": [
    "import pandas as pd"
   ]
  },
  {
   "cell_type": "code",
   "execution_count": 2,
   "metadata": {},
   "outputs": [
    {
     "data": {
      "text/html": [
       "<div>\n",
       "<style scoped>\n",
       "    .dataframe tbody tr th:only-of-type {\n",
       "        vertical-align: middle;\n",
       "    }\n",
       "\n",
       "    .dataframe tbody tr th {\n",
       "        vertical-align: top;\n",
       "    }\n",
       "\n",
       "    .dataframe thead th {\n",
       "        text-align: right;\n",
       "    }\n",
       "</style>\n",
       "<table border=\"1\" class=\"dataframe\">\n",
       "  <thead>\n",
       "    <tr style=\"text-align: right;\">\n",
       "      <th></th>\n",
       "      <th>Order Date</th>\n",
       "      <th>Order ID</th>\n",
       "      <th>Title</th>\n",
       "      <th>Category</th>\n",
       "      <th>Website</th>\n",
       "      <th>Release Date</th>\n",
       "      <th>Condition</th>\n",
       "      <th>Seller</th>\n",
       "      <th>Seller Credentials</th>\n",
       "      <th>List Price Per Unit</th>\n",
       "      <th>Purchase Price Per Unit</th>\n",
       "      <th>Quantity</th>\n",
       "      <th>Order Status</th>\n",
       "      <th>Item Subtotal</th>\n",
       "      <th>Item Subtotal Tax</th>\n",
       "      <th>Item Total</th>\n",
       "      <th>Tax Exemption Applied</th>\n",
       "      <th>Tax Exemption Type</th>\n",
       "      <th>Exemption Opt-Out</th>\n",
       "      <th>Group Name</th>\n",
       "    </tr>\n",
       "  </thead>\n",
       "  <tbody>\n",
       "    <tr>\n",
       "      <th>0</th>\n",
       "      <td>7/1/2021</td>\n",
       "      <td>114-3890855-1762658</td>\n",
       "      <td>Linenspa 8 Inch Memory Foam and Innerspring Hy...</td>\n",
       "      <td>HOME_FURNITURE_AND_DECOR</td>\n",
       "      <td>Amazon.com</td>\n",
       "      <td>NaN</td>\n",
       "      <td>new</td>\n",
       "      <td>Amazon.com</td>\n",
       "      <td>NaN</td>\n",
       "      <td>$244.99</td>\n",
       "      <td>$189.21</td>\n",
       "      <td>1</td>\n",
       "      <td>Shipped</td>\n",
       "      <td>$189.21</td>\n",
       "      <td>$17.03</td>\n",
       "      <td>$206.24</td>\n",
       "      <td>False</td>\n",
       "      <td>NaN</td>\n",
       "      <td>False</td>\n",
       "      <td>NaN</td>\n",
       "    </tr>\n",
       "    <tr>\n",
       "      <th>1</th>\n",
       "      <td>12/1/2021</td>\n",
       "      <td>114-2109640-4754643</td>\n",
       "      <td>Mofason Stove Counter Gap Cover, Kitchen Silic...</td>\n",
       "      <td>POT_HOLDER</td>\n",
       "      <td>Amazon.com</td>\n",
       "      <td>NaN</td>\n",
       "      <td>new</td>\n",
       "      <td>Mofason</td>\n",
       "      <td>NaN</td>\n",
       "      <td>$0.00</td>\n",
       "      <td>$18.99</td>\n",
       "      <td>1</td>\n",
       "      <td>Shipped</td>\n",
       "      <td>$18.99</td>\n",
       "      <td>$1.71</td>\n",
       "      <td>$20.70</td>\n",
       "      <td>False</td>\n",
       "      <td>NaN</td>\n",
       "      <td>False</td>\n",
       "      <td>NaN</td>\n",
       "    </tr>\n",
       "    <tr>\n",
       "      <th>2</th>\n",
       "      <td>12/1/2021</td>\n",
       "      <td>114-2109640-4754643</td>\n",
       "      <td>Amazon Basics Slim, Velvet, Non-Slip Clothes S...</td>\n",
       "      <td>CLOTHES_HANGER</td>\n",
       "      <td>Amazon.com</td>\n",
       "      <td>NaN</td>\n",
       "      <td>new</td>\n",
       "      <td>Amazon.com</td>\n",
       "      <td>NaN</td>\n",
       "      <td>$0.00</td>\n",
       "      <td>$24.22</td>\n",
       "      <td>1</td>\n",
       "      <td>Shipped</td>\n",
       "      <td>$24.22</td>\n",
       "      <td>$2.18</td>\n",
       "      <td>$26.40</td>\n",
       "      <td>False</td>\n",
       "      <td>NaN</td>\n",
       "      <td>False</td>\n",
       "      <td>NaN</td>\n",
       "    </tr>\n",
       "    <tr>\n",
       "      <th>3</th>\n",
       "      <td>01/13/21</td>\n",
       "      <td>114-3306397-3109063</td>\n",
       "      <td>Abakan Bed Sheet Set Queen Size Super Soft 4 P...</td>\n",
       "      <td>BED_LINEN_SET</td>\n",
       "      <td>Amazon.com</td>\n",
       "      <td>NaN</td>\n",
       "      <td>new</td>\n",
       "      <td>Abakan</td>\n",
       "      <td>NaN</td>\n",
       "      <td>$51.90</td>\n",
       "      <td>$23.99</td>\n",
       "      <td>1</td>\n",
       "      <td>Shipped</td>\n",
       "      <td>$23.99</td>\n",
       "      <td>$2.16</td>\n",
       "      <td>$26.15</td>\n",
       "      <td>False</td>\n",
       "      <td>NaN</td>\n",
       "      <td>False</td>\n",
       "      <td>NaN</td>\n",
       "    </tr>\n",
       "    <tr>\n",
       "      <th>4</th>\n",
       "      <td>01/15/21</td>\n",
       "      <td>114-0392421-1716206</td>\n",
       "      <td>Dish Drying Rack, 2 Pack Roll up Drying Rack, ...</td>\n",
       "      <td>DRYING_RACK</td>\n",
       "      <td>Amazon.com</td>\n",
       "      <td>NaN</td>\n",
       "      <td>new</td>\n",
       "      <td>Jijie E-commerce</td>\n",
       "      <td>NaN</td>\n",
       "      <td>$39.99</td>\n",
       "      <td>$22.99</td>\n",
       "      <td>1</td>\n",
       "      <td>Shipped</td>\n",
       "      <td>$22.99</td>\n",
       "      <td>$2.07</td>\n",
       "      <td>$25.06</td>\n",
       "      <td>False</td>\n",
       "      <td>NaN</td>\n",
       "      <td>False</td>\n",
       "      <td>NaN</td>\n",
       "    </tr>\n",
       "  </tbody>\n",
       "</table>\n",
       "</div>"
      ],
      "text/plain": [
       "  Order Date             Order ID  \\\n",
       "0   7/1/2021  114-3890855-1762658   \n",
       "1  12/1/2021  114-2109640-4754643   \n",
       "2  12/1/2021  114-2109640-4754643   \n",
       "3   01/13/21  114-3306397-3109063   \n",
       "4   01/15/21  114-0392421-1716206   \n",
       "\n",
       "                                               Title  \\\n",
       "0  Linenspa 8 Inch Memory Foam and Innerspring Hy...   \n",
       "1  Mofason Stove Counter Gap Cover, Kitchen Silic...   \n",
       "2  Amazon Basics Slim, Velvet, Non-Slip Clothes S...   \n",
       "3  Abakan Bed Sheet Set Queen Size Super Soft 4 P...   \n",
       "4  Dish Drying Rack, 2 Pack Roll up Drying Rack, ...   \n",
       "\n",
       "                   Category     Website Release Date Condition  \\\n",
       "0  HOME_FURNITURE_AND_DECOR  Amazon.com          NaN       new   \n",
       "1                POT_HOLDER  Amazon.com          NaN       new   \n",
       "2            CLOTHES_HANGER  Amazon.com          NaN       new   \n",
       "3             BED_LINEN_SET  Amazon.com          NaN       new   \n",
       "4               DRYING_RACK  Amazon.com          NaN       new   \n",
       "\n",
       "             Seller  Seller Credentials List Price Per Unit  \\\n",
       "0        Amazon.com                 NaN             $244.99   \n",
       "1           Mofason                 NaN               $0.00   \n",
       "2        Amazon.com                 NaN               $0.00   \n",
       "3            Abakan                 NaN              $51.90   \n",
       "4  Jijie E-commerce                 NaN              $39.99   \n",
       "\n",
       "  Purchase Price Per Unit  Quantity Order Status Item Subtotal  \\\n",
       "0                 $189.21         1      Shipped       $189.21   \n",
       "1                  $18.99         1      Shipped        $18.99   \n",
       "2                  $24.22         1      Shipped        $24.22   \n",
       "3                  $23.99         1      Shipped        $23.99   \n",
       "4                  $22.99         1      Shipped        $22.99   \n",
       "\n",
       "  Item Subtotal Tax Item Total  Tax Exemption Applied  Tax Exemption Type  \\\n",
       "0            $17.03    $206.24                  False                 NaN   \n",
       "1             $1.71     $20.70                  False                 NaN   \n",
       "2             $2.18     $26.40                  False                 NaN   \n",
       "3             $2.16     $26.15                  False                 NaN   \n",
       "4             $2.07     $25.06                  False                 NaN   \n",
       "\n",
       "   Exemption Opt-Out  Group Name  \n",
       "0              False         NaN  \n",
       "1              False         NaN  \n",
       "2              False         NaN  \n",
       "3              False         NaN  \n",
       "4              False         NaN  "
      ]
     },
     "execution_count": 2,
     "metadata": {},
     "output_type": "execute_result"
    }
   ],
   "source": [
    "#reading Amazon order data\n",
    "df=pd.read_csv('amazon-orders.csv')\n",
    "#Shape of the dataframe\n",
    "df.shape\n",
    "#First 5 columns and values\n",
    "df.head()"
   ]
  },
  {
   "cell_type": "code",
   "execution_count": 3,
   "metadata": {
    "scrolled": true
   },
   "outputs": [
    {
     "data": {
      "text/html": [
       "<div>\n",
       "<style scoped>\n",
       "    .dataframe tbody tr th:only-of-type {\n",
       "        vertical-align: middle;\n",
       "    }\n",
       "\n",
       "    .dataframe tbody tr th {\n",
       "        vertical-align: top;\n",
       "    }\n",
       "\n",
       "    .dataframe thead th {\n",
       "        text-align: right;\n",
       "    }\n",
       "</style>\n",
       "<table border=\"1\" class=\"dataframe\">\n",
       "  <thead>\n",
       "    <tr style=\"text-align: right;\">\n",
       "      <th></th>\n",
       "      <th>Order Date</th>\n",
       "      <th>Order ID</th>\n",
       "      <th>Category</th>\n",
       "      <th>List Price Per Unit</th>\n",
       "      <th>Purchase Price Per Unit</th>\n",
       "      <th>Quantity</th>\n",
       "      <th>Item Subtotal</th>\n",
       "      <th>Item Subtotal Tax</th>\n",
       "      <th>Item Total</th>\n",
       "    </tr>\n",
       "  </thead>\n",
       "  <tbody>\n",
       "    <tr>\n",
       "      <th>0</th>\n",
       "      <td>7/1/2021</td>\n",
       "      <td>114-3890855-1762658</td>\n",
       "      <td>HOME_FURNITURE_AND_DECOR</td>\n",
       "      <td>$244.99</td>\n",
       "      <td>$189.21</td>\n",
       "      <td>1</td>\n",
       "      <td>$189.21</td>\n",
       "      <td>$17.03</td>\n",
       "      <td>$206.24</td>\n",
       "    </tr>\n",
       "    <tr>\n",
       "      <th>1</th>\n",
       "      <td>12/1/2021</td>\n",
       "      <td>114-2109640-4754643</td>\n",
       "      <td>POT_HOLDER</td>\n",
       "      <td>$0.00</td>\n",
       "      <td>$18.99</td>\n",
       "      <td>1</td>\n",
       "      <td>$18.99</td>\n",
       "      <td>$1.71</td>\n",
       "      <td>$20.70</td>\n",
       "    </tr>\n",
       "    <tr>\n",
       "      <th>2</th>\n",
       "      <td>12/1/2021</td>\n",
       "      <td>114-2109640-4754643</td>\n",
       "      <td>CLOTHES_HANGER</td>\n",
       "      <td>$0.00</td>\n",
       "      <td>$24.22</td>\n",
       "      <td>1</td>\n",
       "      <td>$24.22</td>\n",
       "      <td>$2.18</td>\n",
       "      <td>$26.40</td>\n",
       "    </tr>\n",
       "    <tr>\n",
       "      <th>3</th>\n",
       "      <td>01/13/21</td>\n",
       "      <td>114-3306397-3109063</td>\n",
       "      <td>BED_LINEN_SET</td>\n",
       "      <td>$51.90</td>\n",
       "      <td>$23.99</td>\n",
       "      <td>1</td>\n",
       "      <td>$23.99</td>\n",
       "      <td>$2.16</td>\n",
       "      <td>$26.15</td>\n",
       "    </tr>\n",
       "    <tr>\n",
       "      <th>4</th>\n",
       "      <td>01/15/21</td>\n",
       "      <td>114-0392421-1716206</td>\n",
       "      <td>DRYING_RACK</td>\n",
       "      <td>$39.99</td>\n",
       "      <td>$22.99</td>\n",
       "      <td>1</td>\n",
       "      <td>$22.99</td>\n",
       "      <td>$2.07</td>\n",
       "      <td>$25.06</td>\n",
       "    </tr>\n",
       "  </tbody>\n",
       "</table>\n",
       "</div>"
      ],
      "text/plain": [
       "  Order Date             Order ID                  Category  \\\n",
       "0   7/1/2021  114-3890855-1762658  HOME_FURNITURE_AND_DECOR   \n",
       "1  12/1/2021  114-2109640-4754643                POT_HOLDER   \n",
       "2  12/1/2021  114-2109640-4754643            CLOTHES_HANGER   \n",
       "3   01/13/21  114-3306397-3109063             BED_LINEN_SET   \n",
       "4   01/15/21  114-0392421-1716206               DRYING_RACK   \n",
       "\n",
       "  List Price Per Unit Purchase Price Per Unit  Quantity Item Subtotal  \\\n",
       "0             $244.99                 $189.21         1       $189.21   \n",
       "1               $0.00                  $18.99         1        $18.99   \n",
       "2               $0.00                  $24.22         1        $24.22   \n",
       "3              $51.90                  $23.99         1        $23.99   \n",
       "4              $39.99                  $22.99         1        $22.99   \n",
       "\n",
       "  Item Subtotal Tax Item Total  \n",
       "0            $17.03    $206.24  \n",
       "1             $1.71     $20.70  \n",
       "2             $2.18     $26.40  \n",
       "3             $2.16     $26.15  \n",
       "4             $2.07     $25.06  "
      ]
     },
     "execution_count": 3,
     "metadata": {},
     "output_type": "execute_result"
    }
   ],
   "source": [
    "#Data Cleaning\n",
    "df.columns\n",
    "df=df[['Order Date','Order ID','Category','List Price Per Unit','Purchase Price Per Unit','Quantity','Item Subtotal','Item Subtotal Tax','Item Total']]\n",
    "df.shape\n",
    "df.head()"
   ]
  },
  {
   "cell_type": "markdown",
   "metadata": {},
   "source": [
    "Replacing the $ sign in the price"
   ]
  },
  {
   "cell_type": "code",
   "execution_count": 4,
   "metadata": {},
   "outputs": [],
   "source": [
    "df=df.replace(regex='\\$(.*)',value=r'\\1')"
   ]
  },
  {
   "cell_type": "code",
   "execution_count": 5,
   "metadata": {},
   "outputs": [
    {
     "data": {
      "text/html": [
       "<div>\n",
       "<style scoped>\n",
       "    .dataframe tbody tr th:only-of-type {\n",
       "        vertical-align: middle;\n",
       "    }\n",
       "\n",
       "    .dataframe tbody tr th {\n",
       "        vertical-align: top;\n",
       "    }\n",
       "\n",
       "    .dataframe thead th {\n",
       "        text-align: right;\n",
       "    }\n",
       "</style>\n",
       "<table border=\"1\" class=\"dataframe\">\n",
       "  <thead>\n",
       "    <tr style=\"text-align: right;\">\n",
       "      <th></th>\n",
       "      <th>Order Date</th>\n",
       "      <th>Order ID</th>\n",
       "      <th>Category</th>\n",
       "      <th>List Price Per Unit</th>\n",
       "      <th>Purchase Price Per Unit</th>\n",
       "      <th>Quantity</th>\n",
       "      <th>Item Subtotal</th>\n",
       "      <th>Item Subtotal Tax</th>\n",
       "      <th>Item Total</th>\n",
       "    </tr>\n",
       "  </thead>\n",
       "  <tbody>\n",
       "    <tr>\n",
       "      <th>0</th>\n",
       "      <td>7/1/2021</td>\n",
       "      <td>114-3890855-1762658</td>\n",
       "      <td>HOME_FURNITURE_AND_DECOR</td>\n",
       "      <td>244.99</td>\n",
       "      <td>189.21</td>\n",
       "      <td>1</td>\n",
       "      <td>189.21</td>\n",
       "      <td>17.03</td>\n",
       "      <td>206.24</td>\n",
       "    </tr>\n",
       "    <tr>\n",
       "      <th>1</th>\n",
       "      <td>12/1/2021</td>\n",
       "      <td>114-2109640-4754643</td>\n",
       "      <td>POT_HOLDER</td>\n",
       "      <td>0.00</td>\n",
       "      <td>18.99</td>\n",
       "      <td>1</td>\n",
       "      <td>18.99</td>\n",
       "      <td>1.71</td>\n",
       "      <td>20.70</td>\n",
       "    </tr>\n",
       "    <tr>\n",
       "      <th>2</th>\n",
       "      <td>12/1/2021</td>\n",
       "      <td>114-2109640-4754643</td>\n",
       "      <td>CLOTHES_HANGER</td>\n",
       "      <td>0.00</td>\n",
       "      <td>24.22</td>\n",
       "      <td>1</td>\n",
       "      <td>24.22</td>\n",
       "      <td>2.18</td>\n",
       "      <td>26.40</td>\n",
       "    </tr>\n",
       "    <tr>\n",
       "      <th>3</th>\n",
       "      <td>01/13/21</td>\n",
       "      <td>114-3306397-3109063</td>\n",
       "      <td>BED_LINEN_SET</td>\n",
       "      <td>51.90</td>\n",
       "      <td>23.99</td>\n",
       "      <td>1</td>\n",
       "      <td>23.99</td>\n",
       "      <td>2.16</td>\n",
       "      <td>26.15</td>\n",
       "    </tr>\n",
       "    <tr>\n",
       "      <th>4</th>\n",
       "      <td>01/15/21</td>\n",
       "      <td>114-0392421-1716206</td>\n",
       "      <td>DRYING_RACK</td>\n",
       "      <td>39.99</td>\n",
       "      <td>22.99</td>\n",
       "      <td>1</td>\n",
       "      <td>22.99</td>\n",
       "      <td>2.07</td>\n",
       "      <td>25.06</td>\n",
       "    </tr>\n",
       "  </tbody>\n",
       "</table>\n",
       "</div>"
      ],
      "text/plain": [
       "  Order Date             Order ID                  Category  \\\n",
       "0   7/1/2021  114-3890855-1762658  HOME_FURNITURE_AND_DECOR   \n",
       "1  12/1/2021  114-2109640-4754643                POT_HOLDER   \n",
       "2  12/1/2021  114-2109640-4754643            CLOTHES_HANGER   \n",
       "3   01/13/21  114-3306397-3109063             BED_LINEN_SET   \n",
       "4   01/15/21  114-0392421-1716206               DRYING_RACK   \n",
       "\n",
       "  List Price Per Unit Purchase Price Per Unit  Quantity Item Subtotal  \\\n",
       "0              244.99                  189.21         1        189.21   \n",
       "1                0.00                   18.99         1         18.99   \n",
       "2                0.00                   24.22         1         24.22   \n",
       "3               51.90                   23.99         1         23.99   \n",
       "4               39.99                   22.99         1         22.99   \n",
       "\n",
       "  Item Subtotal Tax Item Total  \n",
       "0             17.03     206.24  \n",
       "1              1.71      20.70  \n",
       "2              2.18      26.40  \n",
       "3              2.16      26.15  \n",
       "4              2.07      25.06  "
      ]
     },
     "execution_count": 5,
     "metadata": {},
     "output_type": "execute_result"
    }
   ],
   "source": [
    "df.head()"
   ]
  },
  {
   "cell_type": "markdown",
   "metadata": {},
   "source": [
    " Calculating the Total Amount of Money spent in Amazon"
   ]
  },
  {
   "cell_type": "code",
   "execution_count": 6,
   "metadata": {},
   "outputs": [
    {
     "data": {
      "text/plain": [
       "Order Date                 object\n",
       "Order ID                   object\n",
       "Category                   object\n",
       "List Price Per Unit        object\n",
       "Purchase Price Per Unit    object\n",
       "Quantity                    int64\n",
       "Item Subtotal              object\n",
       "Item Subtotal Tax          object\n",
       "Item Total                 object\n",
       "dtype: object"
      ]
     },
     "execution_count": 6,
     "metadata": {},
     "output_type": "execute_result"
    }
   ],
   "source": [
    "df.dtypes"
   ]
  },
  {
   "cell_type": "code",
   "execution_count": 7,
   "metadata": {},
   "outputs": [],
   "source": [
    "#Changing Data Type of Price columns\n",
    "cols=['List Price Per Unit','Purchase Price Per Unit','Item Subtotal','Item Subtotal Tax','Item Total']\n",
    "df[cols]=df[cols].apply(pd.to_numeric,errors='coerce')"
   ]
  },
  {
   "cell_type": "code",
   "execution_count": 8,
   "metadata": {},
   "outputs": [
    {
     "data": {
      "text/plain": [
       "2114.26"
      ]
     },
     "execution_count": 8,
     "metadata": {},
     "output_type": "execute_result"
    }
   ],
   "source": [
    "df['Item Total'].sum()"
   ]
  },
  {
   "cell_type": "markdown",
   "metadata": {},
   "source": [
    "Average Purchase Price Spend on Amazon"
   ]
  },
  {
   "cell_type": "code",
   "execution_count": 9,
   "metadata": {},
   "outputs": [
    {
     "data": {
      "text/plain": [
       "45.96217391304347"
      ]
     },
     "execution_count": 9,
     "metadata": {},
     "output_type": "execute_result"
    }
   ],
   "source": [
    "df['Item Total'].mean()"
   ]
  },
  {
   "cell_type": "code",
   "execution_count": 10,
   "metadata": {},
   "outputs": [
    {
     "data": {
      "text/plain": [
       "23.905"
      ]
     },
     "execution_count": 10,
     "metadata": {},
     "output_type": "execute_result"
    }
   ],
   "source": [
    "df['Item Total'].median()"
   ]
  },
  {
   "cell_type": "markdown",
   "metadata": {},
   "source": [
    "Median is far lower than the the mean ie few items bought were more expensive than the latter"
   ]
  },
  {
   "cell_type": "markdown",
   "metadata": {},
   "source": [
    "The Most Expensive thing bought from Amazon"
   ]
  },
  {
   "cell_type": "code",
   "execution_count": 11,
   "metadata": {},
   "outputs": [
    {
     "data": {
      "text/html": [
       "<div>\n",
       "<style scoped>\n",
       "    .dataframe tbody tr th:only-of-type {\n",
       "        vertical-align: middle;\n",
       "    }\n",
       "\n",
       "    .dataframe tbody tr th {\n",
       "        vertical-align: top;\n",
       "    }\n",
       "\n",
       "    .dataframe thead th {\n",
       "        text-align: right;\n",
       "    }\n",
       "</style>\n",
       "<table border=\"1\" class=\"dataframe\">\n",
       "  <thead>\n",
       "    <tr style=\"text-align: right;\">\n",
       "      <th></th>\n",
       "      <th>Order Date</th>\n",
       "      <th>Order ID</th>\n",
       "      <th>Category</th>\n",
       "      <th>List Price Per Unit</th>\n",
       "      <th>Purchase Price Per Unit</th>\n",
       "      <th>Quantity</th>\n",
       "      <th>Item Subtotal</th>\n",
       "      <th>Item Subtotal Tax</th>\n",
       "      <th>Item Total</th>\n",
       "    </tr>\n",
       "  </thead>\n",
       "  <tbody>\n",
       "    <tr>\n",
       "      <th>37</th>\n",
       "      <td>1/4/2021</td>\n",
       "      <td>114-8339633-3692265</td>\n",
       "      <td>TREADMILL</td>\n",
       "      <td>0.0</td>\n",
       "      <td>499.0</td>\n",
       "      <td>1</td>\n",
       "      <td>499.0</td>\n",
       "      <td>44.91</td>\n",
       "      <td>543.91</td>\n",
       "    </tr>\n",
       "  </tbody>\n",
       "</table>\n",
       "</div>"
      ],
      "text/plain": [
       "   Order Date             Order ID   Category  List Price Per Unit  \\\n",
       "37   1/4/2021  114-8339633-3692265  TREADMILL                  0.0   \n",
       "\n",
       "    Purchase Price Per Unit  Quantity  Item Subtotal  Item Subtotal Tax  \\\n",
       "37                    499.0         1          499.0              44.91   \n",
       "\n",
       "    Item Total  \n",
       "37      543.91  "
      ]
     },
     "execution_count": 11,
     "metadata": {},
     "output_type": "execute_result"
    }
   ],
   "source": [
    "df.loc[df['Item Total']==df['Item Total'].max()]"
   ]
  },
  {
   "cell_type": "markdown",
   "metadata": {},
   "source": [
    "Money Spent on Sales Tax"
   ]
  },
  {
   "cell_type": "code",
   "execution_count": 12,
   "metadata": {},
   "outputs": [
    {
     "data": {
      "text/plain": [
       "173.01999999999998"
      ]
     },
     "execution_count": 12,
     "metadata": {},
     "output_type": "execute_result"
    }
   ],
   "source": [
    "df['Item Subtotal Tax'].sum()"
   ]
  },
  {
   "cell_type": "markdown",
   "metadata": {},
   "source": [
    "Overall Tax Rate for Each Items"
   ]
  },
  {
   "cell_type": "code",
   "execution_count": 13,
   "metadata": {},
   "outputs": [
    {
     "data": {
      "text/plain": [
       "8.183477907163734"
      ]
     },
     "execution_count": 13,
     "metadata": {},
     "output_type": "execute_result"
    }
   ],
   "source": [
    "(df['Item Subtotal Tax'].sum()/df['Item Total'].sum())*100"
   ]
  },
  {
   "cell_type": "markdown",
   "metadata": {},
   "source": [
    "Analyzing Amazon Spending Over Time"
   ]
  },
  {
   "cell_type": "code",
   "execution_count": 14,
   "metadata": {},
   "outputs": [
    {
     "data": {
      "text/plain": [
       "Order Date                 datetime64[ns]\n",
       "Order ID                           object\n",
       "Category                           object\n",
       "List Price Per Unit               float64\n",
       "Purchase Price Per Unit           float64\n",
       "Quantity                            int64\n",
       "Item Subtotal                     float64\n",
       "Item Subtotal Tax                 float64\n",
       "Item Total                        float64\n",
       "dtype: object"
      ]
     },
     "execution_count": 14,
     "metadata": {},
     "output_type": "execute_result"
    }
   ],
   "source": [
    "#Converting OrderDate to Datatime Datatype\n",
    "df['Order Date']=pd.to_datetime(df['Order Date'])\n",
    "df.dtypes"
   ]
  },
  {
   "cell_type": "code",
   "execution_count": 15,
   "metadata": {},
   "outputs": [
    {
     "data": {
      "text/html": [
       "<div>\n",
       "<style scoped>\n",
       "    .dataframe tbody tr th:only-of-type {\n",
       "        vertical-align: middle;\n",
       "    }\n",
       "\n",
       "    .dataframe tbody tr th {\n",
       "        vertical-align: top;\n",
       "    }\n",
       "\n",
       "    .dataframe thead th {\n",
       "        text-align: right;\n",
       "    }\n",
       "</style>\n",
       "<table border=\"1\" class=\"dataframe\">\n",
       "  <thead>\n",
       "    <tr style=\"text-align: right;\">\n",
       "      <th></th>\n",
       "      <th>Order Date</th>\n",
       "      <th>Order ID</th>\n",
       "      <th>Category</th>\n",
       "      <th>List Price Per Unit</th>\n",
       "      <th>Purchase Price Per Unit</th>\n",
       "      <th>Quantity</th>\n",
       "      <th>Item Subtotal</th>\n",
       "      <th>Item Subtotal Tax</th>\n",
       "      <th>Item Total</th>\n",
       "    </tr>\n",
       "  </thead>\n",
       "  <tbody>\n",
       "    <tr>\n",
       "      <th>0</th>\n",
       "      <td>2021-07-01</td>\n",
       "      <td>114-3890855-1762658</td>\n",
       "      <td>HOME_FURNITURE_AND_DECOR</td>\n",
       "      <td>244.99</td>\n",
       "      <td>189.21</td>\n",
       "      <td>1</td>\n",
       "      <td>189.21</td>\n",
       "      <td>17.03</td>\n",
       "      <td>206.24</td>\n",
       "    </tr>\n",
       "    <tr>\n",
       "      <th>1</th>\n",
       "      <td>2021-12-01</td>\n",
       "      <td>114-2109640-4754643</td>\n",
       "      <td>POT_HOLDER</td>\n",
       "      <td>0.00</td>\n",
       "      <td>18.99</td>\n",
       "      <td>1</td>\n",
       "      <td>18.99</td>\n",
       "      <td>1.71</td>\n",
       "      <td>20.70</td>\n",
       "    </tr>\n",
       "    <tr>\n",
       "      <th>2</th>\n",
       "      <td>2021-12-01</td>\n",
       "      <td>114-2109640-4754643</td>\n",
       "      <td>CLOTHES_HANGER</td>\n",
       "      <td>0.00</td>\n",
       "      <td>24.22</td>\n",
       "      <td>1</td>\n",
       "      <td>24.22</td>\n",
       "      <td>2.18</td>\n",
       "      <td>26.40</td>\n",
       "    </tr>\n",
       "    <tr>\n",
       "      <th>3</th>\n",
       "      <td>2021-01-13</td>\n",
       "      <td>114-3306397-3109063</td>\n",
       "      <td>BED_LINEN_SET</td>\n",
       "      <td>51.90</td>\n",
       "      <td>23.99</td>\n",
       "      <td>1</td>\n",
       "      <td>23.99</td>\n",
       "      <td>2.16</td>\n",
       "      <td>26.15</td>\n",
       "    </tr>\n",
       "    <tr>\n",
       "      <th>4</th>\n",
       "      <td>2021-01-15</td>\n",
       "      <td>114-0392421-1716206</td>\n",
       "      <td>DRYING_RACK</td>\n",
       "      <td>39.99</td>\n",
       "      <td>22.99</td>\n",
       "      <td>1</td>\n",
       "      <td>22.99</td>\n",
       "      <td>2.07</td>\n",
       "      <td>25.06</td>\n",
       "    </tr>\n",
       "  </tbody>\n",
       "</table>\n",
       "</div>"
      ],
      "text/plain": [
       "  Order Date             Order ID                  Category  \\\n",
       "0 2021-07-01  114-3890855-1762658  HOME_FURNITURE_AND_DECOR   \n",
       "1 2021-12-01  114-2109640-4754643                POT_HOLDER   \n",
       "2 2021-12-01  114-2109640-4754643            CLOTHES_HANGER   \n",
       "3 2021-01-13  114-3306397-3109063             BED_LINEN_SET   \n",
       "4 2021-01-15  114-0392421-1716206               DRYING_RACK   \n",
       "\n",
       "   List Price Per Unit  Purchase Price Per Unit  Quantity  Item Subtotal  \\\n",
       "0               244.99                   189.21         1         189.21   \n",
       "1                 0.00                    18.99         1          18.99   \n",
       "2                 0.00                    24.22         1          24.22   \n",
       "3                51.90                    23.99         1          23.99   \n",
       "4                39.99                    22.99         1          22.99   \n",
       "\n",
       "   Item Subtotal Tax  Item Total  \n",
       "0              17.03      206.24  \n",
       "1               1.71       20.70  \n",
       "2               2.18       26.40  \n",
       "3               2.16       26.15  \n",
       "4               2.07       25.06  "
      ]
     },
     "execution_count": 15,
     "metadata": {},
     "output_type": "execute_result"
    }
   ],
   "source": [
    "df.head()"
   ]
  },
  {
   "cell_type": "code",
   "execution_count": 16,
   "metadata": {},
   "outputs": [
    {
     "data": {
      "text/plain": [
       "<AxesSubplot:xlabel='Order Date'>"
      ]
     },
     "execution_count": 16,
     "metadata": {},
     "output_type": "execute_result"
    },
    {
     "data": {
      "image/png": "[encoded data removed]",
      "text/plain": [
       "<Figure size 1440x720 with 1 Axes>"
      ]
     },
     "metadata": {
      "needs_background": "light"
     },
     "output_type": "display_data"
    }
   ],
   "source": [
    "%matplotlib inline\n",
    "df.plot.bar(x='Order Date',y='Item Total',figsize=(20,10),rot=90)"
   ]
  },
  {
   "cell_type": "code",
   "execution_count": 17,
   "metadata": {},
   "outputs": [
    {
     "data": {
      "text/plain": [
       "Order Date\n",
       "2021-01-04    599.83\n",
       "2021-01-13     26.15\n",
       "2021-01-15    167.67\n",
       "2021-01-18     50.66\n",
       "2021-01-19     86.62\n",
       "Name: Item Total, dtype: float64"
      ]
     },
     "execution_count": 17,
     "metadata": {},
     "output_type": "execute_result"
    }
   ],
   "source": [
    "daily_orders=df.groupby('Order Date').sum()['Item Total']\n",
    "daily_orders.head()"
   ]
  },
  {
   "cell_type": "code",
   "execution_count": 18,
   "metadata": {},
   "outputs": [
    {
     "data": {
      "text/plain": [
       "<AxesSubplot:xlabel='Order Date'>"
      ]
     },
     "execution_count": 18,
     "metadata": {},
     "output_type": "execute_result"
    },
    {
     "data": {
      "image/png": "[encoded data removed]",
      "text/plain": [
       "<Figure size 1440x720 with 1 Axes>"
      ]
     },
     "metadata": {
      "needs_background": "light"
     },
     "output_type": "display_data"
    }
   ],
   "source": [
    "daily_orders.plot.bar(figsize=(20,10))"
   ]
  },
  {
   "cell_type": "markdown",
   "metadata": {},
   "source": [
    "Monthly Spending Trend"
   ]
  },
  {
   "cell_type": "code",
   "execution_count": 19,
   "metadata": {},
   "outputs": [
    {
     "data": {
      "text/plain": [
       "Order Date\n",
       "May            25.06\n",
       "August         40.84\n",
       "June           47.48\n",
       "March          54.05\n",
       "December       63.70\n",
       "September     141.69\n",
       "April         155.50\n",
       "July          206.24\n",
       "February      306.21\n",
       "January      1073.49\n",
       "Name: Item Total, dtype: float64"
      ]
     },
     "execution_count": 19,
     "metadata": {},
     "output_type": "execute_result"
    }
   ],
   "source": [
    "df.groupby(df['Order Date'].dt.strftime('%B'))['Item Total'].sum().sort_values()"
   ]
  },
  {
   "cell_type": "markdown",
   "metadata": {},
   "source": [
    "See the Items bought in April"
   ]
  },
  {
   "cell_type": "code",
   "execution_count": 20,
   "metadata": {},
   "outputs": [
    {
     "data": {
      "text/html": [
       "<div>\n",
       "<style scoped>\n",
       "    .dataframe tbody tr th:only-of-type {\n",
       "        vertical-align: middle;\n",
       "    }\n",
       "\n",
       "    .dataframe tbody tr th {\n",
       "        vertical-align: top;\n",
       "    }\n",
       "\n",
       "    .dataframe thead th {\n",
       "        text-align: right;\n",
       "    }\n",
       "</style>\n",
       "<table border=\"1\" class=\"dataframe\">\n",
       "  <thead>\n",
       "    <tr style=\"text-align: right;\">\n",
       "      <th></th>\n",
       "      <th>Order Date</th>\n",
       "      <th>Order ID</th>\n",
       "      <th>Category</th>\n",
       "      <th>List Price Per Unit</th>\n",
       "      <th>Purchase Price Per Unit</th>\n",
       "      <th>Quantity</th>\n",
       "      <th>Item Subtotal</th>\n",
       "      <th>Item Subtotal Tax</th>\n",
       "      <th>Item Total</th>\n",
       "    </tr>\n",
       "  </thead>\n",
       "  <tbody>\n",
       "    <tr>\n",
       "      <th>3</th>\n",
       "      <td>2021-01-13</td>\n",
       "      <td>114-3306397-3109063</td>\n",
       "      <td>BED_LINEN_SET</td>\n",
       "      <td>51.90</td>\n",
       "      <td>23.99</td>\n",
       "      <td>1</td>\n",
       "      <td>23.99</td>\n",
       "      <td>2.16</td>\n",
       "      <td>26.15</td>\n",
       "    </tr>\n",
       "    <tr>\n",
       "      <th>4</th>\n",
       "      <td>2021-01-15</td>\n",
       "      <td>114-0392421-1716206</td>\n",
       "      <td>DRYING_RACK</td>\n",
       "      <td>39.99</td>\n",
       "      <td>22.99</td>\n",
       "      <td>1</td>\n",
       "      <td>22.99</td>\n",
       "      <td>2.07</td>\n",
       "      <td>25.06</td>\n",
       "    </tr>\n",
       "    <tr>\n",
       "      <th>5</th>\n",
       "      <td>2021-01-15</td>\n",
       "      <td>114-0392421-1716206</td>\n",
       "      <td>KITCHEN</td>\n",
       "      <td>0.00</td>\n",
       "      <td>23.99</td>\n",
       "      <td>1</td>\n",
       "      <td>23.99</td>\n",
       "      <td>2.05</td>\n",
       "      <td>26.04</td>\n",
       "    </tr>\n",
       "    <tr>\n",
       "      <th>6</th>\n",
       "      <td>2021-01-15</td>\n",
       "      <td>114-0392421-1716206</td>\n",
       "      <td>ARTIFICIAL_PLANT</td>\n",
       "      <td>0.00</td>\n",
       "      <td>23.99</td>\n",
       "      <td>1</td>\n",
       "      <td>23.99</td>\n",
       "      <td>2.16</td>\n",
       "      <td>26.15</td>\n",
       "    </tr>\n",
       "    <tr>\n",
       "      <th>7</th>\n",
       "      <td>2021-01-15</td>\n",
       "      <td>114-0392421-1716206</td>\n",
       "      <td>JAR</td>\n",
       "      <td>0.00</td>\n",
       "      <td>22.99</td>\n",
       "      <td>1</td>\n",
       "      <td>22.99</td>\n",
       "      <td>2.07</td>\n",
       "      <td>25.06</td>\n",
       "    </tr>\n",
       "    <tr>\n",
       "      <th>8</th>\n",
       "      <td>2021-01-15</td>\n",
       "      <td>114-0392421-1716206</td>\n",
       "      <td>KITCHEN</td>\n",
       "      <td>15.99</td>\n",
       "      <td>13.99</td>\n",
       "      <td>1</td>\n",
       "      <td>13.99</td>\n",
       "      <td>1.26</td>\n",
       "      <td>15.25</td>\n",
       "    </tr>\n",
       "    <tr>\n",
       "      <th>9</th>\n",
       "      <td>2021-01-15</td>\n",
       "      <td>114-0392421-1716206</td>\n",
       "      <td>HOSE_PIPE_FITTING</td>\n",
       "      <td>10.99</td>\n",
       "      <td>8.99</td>\n",
       "      <td>1</td>\n",
       "      <td>8.99</td>\n",
       "      <td>0.81</td>\n",
       "      <td>9.80</td>\n",
       "    </tr>\n",
       "    <tr>\n",
       "      <th>10</th>\n",
       "      <td>2021-01-15</td>\n",
       "      <td>114-0392421-1716206</td>\n",
       "      <td>KITCHEN</td>\n",
       "      <td>0.00</td>\n",
       "      <td>21.99</td>\n",
       "      <td>1</td>\n",
       "      <td>21.99</td>\n",
       "      <td>1.98</td>\n",
       "      <td>23.97</td>\n",
       "    </tr>\n",
       "    <tr>\n",
       "      <th>11</th>\n",
       "      <td>2021-01-15</td>\n",
       "      <td>114-0392421-1716206</td>\n",
       "      <td>TOOTHBRUSH_HOLDER</td>\n",
       "      <td>14.99</td>\n",
       "      <td>14.99</td>\n",
       "      <td>1</td>\n",
       "      <td>14.99</td>\n",
       "      <td>1.35</td>\n",
       "      <td>16.34</td>\n",
       "    </tr>\n",
       "    <tr>\n",
       "      <th>12</th>\n",
       "      <td>2021-01-18</td>\n",
       "      <td>114-0217131-7482656</td>\n",
       "      <td>VITAMIN</td>\n",
       "      <td>30.00</td>\n",
       "      <td>22.49</td>\n",
       "      <td>1</td>\n",
       "      <td>22.49</td>\n",
       "      <td>2.02</td>\n",
       "      <td>24.51</td>\n",
       "    </tr>\n",
       "    <tr>\n",
       "      <th>13</th>\n",
       "      <td>2021-01-18</td>\n",
       "      <td>114-2120419-0926650</td>\n",
       "      <td>STORAGE_RACK</td>\n",
       "      <td>27.99</td>\n",
       "      <td>23.99</td>\n",
       "      <td>1</td>\n",
       "      <td>23.99</td>\n",
       "      <td>2.16</td>\n",
       "      <td>26.15</td>\n",
       "    </tr>\n",
       "    <tr>\n",
       "      <th>14</th>\n",
       "      <td>2021-01-19</td>\n",
       "      <td>112-7208046-4818601</td>\n",
       "      <td>CLEANING_AGENT</td>\n",
       "      <td>0.00</td>\n",
       "      <td>9.99</td>\n",
       "      <td>1</td>\n",
       "      <td>9.99</td>\n",
       "      <td>0.90</td>\n",
       "      <td>10.89</td>\n",
       "    </tr>\n",
       "    <tr>\n",
       "      <th>15</th>\n",
       "      <td>2021-01-19</td>\n",
       "      <td>112-4795831-0309029</td>\n",
       "      <td>TABLE</td>\n",
       "      <td>0.00</td>\n",
       "      <td>59.99</td>\n",
       "      <td>1</td>\n",
       "      <td>59.99</td>\n",
       "      <td>5.40</td>\n",
       "      <td>65.39</td>\n",
       "    </tr>\n",
       "    <tr>\n",
       "      <th>16</th>\n",
       "      <td>2021-01-19</td>\n",
       "      <td>114-4504523-9208262</td>\n",
       "      <td>CURTAIN_FASTENER</td>\n",
       "      <td>0.00</td>\n",
       "      <td>9.49</td>\n",
       "      <td>1</td>\n",
       "      <td>9.49</td>\n",
       "      <td>0.85</td>\n",
       "      <td>10.34</td>\n",
       "    </tr>\n",
       "    <tr>\n",
       "      <th>17</th>\n",
       "      <td>2021-01-23</td>\n",
       "      <td>114-1551041-9659463</td>\n",
       "      <td>KNIFE_SHARPENER</td>\n",
       "      <td>0.00</td>\n",
       "      <td>20.99</td>\n",
       "      <td>1</td>\n",
       "      <td>20.99</td>\n",
       "      <td>1.79</td>\n",
       "      <td>22.78</td>\n",
       "    </tr>\n",
       "    <tr>\n",
       "      <th>18</th>\n",
       "      <td>2021-01-31</td>\n",
       "      <td>114-0526378-5121842</td>\n",
       "      <td>PLACEMAT</td>\n",
       "      <td>15.99</td>\n",
       "      <td>9.98</td>\n",
       "      <td>1</td>\n",
       "      <td>9.98</td>\n",
       "      <td>0.81</td>\n",
       "      <td>10.79</td>\n",
       "    </tr>\n",
       "    <tr>\n",
       "      <th>19</th>\n",
       "      <td>2021-01-31</td>\n",
       "      <td>114-6512295-0438619</td>\n",
       "      <td>HOME_MIRROR</td>\n",
       "      <td>0.00</td>\n",
       "      <td>99.99</td>\n",
       "      <td>1</td>\n",
       "      <td>99.99</td>\n",
       "      <td>9.00</td>\n",
       "      <td>108.99</td>\n",
       "    </tr>\n",
       "    <tr>\n",
       "      <th>37</th>\n",
       "      <td>2021-01-04</td>\n",
       "      <td>114-8339633-3692265</td>\n",
       "      <td>TREADMILL</td>\n",
       "      <td>0.00</td>\n",
       "      <td>499.00</td>\n",
       "      <td>1</td>\n",
       "      <td>499.00</td>\n",
       "      <td>44.91</td>\n",
       "      <td>543.91</td>\n",
       "    </tr>\n",
       "    <tr>\n",
       "      <th>38</th>\n",
       "      <td>2021-01-04</td>\n",
       "      <td>114-4875089-2792231</td>\n",
       "      <td>HEADPHONES</td>\n",
       "      <td>69.99</td>\n",
       "      <td>51.30</td>\n",
       "      <td>1</td>\n",
       "      <td>51.30</td>\n",
       "      <td>4.62</td>\n",
       "      <td>55.92</td>\n",
       "    </tr>\n",
       "  </tbody>\n",
       "</table>\n",
       "</div>"
      ],
      "text/plain": [
       "   Order Date             Order ID           Category  List Price Per Unit  \\\n",
       "3  2021-01-13  114-3306397-3109063      BED_LINEN_SET                51.90   \n",
       "4  2021-01-15  114-0392421-1716206        DRYING_RACK                39.99   \n",
       "5  2021-01-15  114-0392421-1716206            KITCHEN                 0.00   \n",
       "6  2021-01-15  114-0392421-1716206   ARTIFICIAL_PLANT                 0.00   \n",
       "7  2021-01-15  114-0392421-1716206                JAR                 0.00   \n",
       "8  2021-01-15  114-0392421-1716206            KITCHEN                15.99   \n",
       "9  2021-01-15  114-0392421-1716206  HOSE_PIPE_FITTING                10.99   \n",
       "10 2021-01-15  114-0392421-1716206            KITCHEN                 0.00   \n",
       "11 2021-01-15  114-0392421-1716206  TOOTHBRUSH_HOLDER                14.99   \n",
       "12 2021-01-18  114-0217131-7482656            VITAMIN                30.00   \n",
       "13 2021-01-18  114-2120419-0926650       STORAGE_RACK                27.99   \n",
       "14 2021-01-19  112-7208046-4818601     CLEANING_AGENT                 0.00   \n",
       "15 2021-01-19  112-4795831-0309029              TABLE                 0.00   \n",
       "16 2021-01-19  114-4504523-9208262   CURTAIN_FASTENER                 0.00   \n",
       "17 2021-01-23  114-1551041-9659463    KNIFE_SHARPENER                 0.00   \n",
       "18 2021-01-31  114-0526378-5121842           PLACEMAT                15.99   \n",
       "19 2021-01-31  114-6512295-0438619        HOME_MIRROR                 0.00   \n",
       "37 2021-01-04  114-8339633-3692265          TREADMILL                 0.00   \n",
       "38 2021-01-04  114-4875089-2792231         HEADPHONES                69.99   \n",
       "\n",
       "    Purchase Price Per Unit  Quantity  Item Subtotal  Item Subtotal Tax  \\\n",
       "3                     23.99         1          23.99               2.16   \n",
       "4                     22.99         1          22.99               2.07   \n",
       "5                     23.99         1          23.99               2.05   \n",
       "6                     23.99         1          23.99               2.16   \n",
       "7                     22.99         1          22.99               2.07   \n",
       "8                     13.99         1          13.99               1.26   \n",
       "9                      8.99         1           8.99               0.81   \n",
       "10                    21.99         1          21.99               1.98   \n",
       "11                    14.99         1          14.99               1.35   \n",
       "12                    22.49         1          22.49               2.02   \n",
       "13                    23.99         1          23.99               2.16   \n",
       "14                     9.99         1           9.99               0.90   \n",
       "15                    59.99         1          59.99               5.40   \n",
       "16                     9.49         1           9.49               0.85   \n",
       "17                    20.99         1          20.99               1.79   \n",
       "18                     9.98         1           9.98               0.81   \n",
       "19                    99.99         1          99.99               9.00   \n",
       "37                   499.00         1         499.00              44.91   \n",
       "38                    51.30         1          51.30               4.62   \n",
       "\n",
       "    Item Total  \n",
       "3        26.15  \n",
       "4        25.06  \n",
       "5        26.04  \n",
       "6        26.15  \n",
       "7        25.06  \n",
       "8        15.25  \n",
       "9         9.80  \n",
       "10       23.97  \n",
       "11       16.34  \n",
       "12       24.51  \n",
       "13       26.15  \n",
       "14       10.89  \n",
       "15       65.39  \n",
       "16       10.34  \n",
       "17       22.78  \n",
       "18       10.79  \n",
       "19      108.99  \n",
       "37      543.91  \n",
       "38       55.92  "
      ]
     },
     "execution_count": 20,
     "metadata": {},
     "output_type": "execute_result"
    }
   ],
   "source": [
    "df.loc[df['Order Date'].dt.month==1]"
   ]
  },
  {
   "cell_type": "code",
   "execution_count": null,
   "metadata": {},
   "outputs": [],
   "source": []
  }
 ],
 "metadata": {
  "kernelspec": {
   "display_name": "Python 3",
   "language": "python",
   "name": "python3"
  },
  "language_info": {
   "codemirror_mode": {
    "name": "ipython",
    "version": 3
   },
   "file_extension": ".py",
   "mimetype": "text/x-python",
   "name": "python",
   "nbconvert_exporter": "python",
   "pygments_lexer": "ipython3",
   "version": "3.8.5"
  }
 },
 "nbformat": 4,
 "nbformat_minor": 4
}
